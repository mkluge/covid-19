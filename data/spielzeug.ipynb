{
 "cells": [
  {
   "cell_type": "code",
   "execution_count": 3,
   "metadata": {},
   "outputs": [
    {
     "name": "stdout",
     "output_type": "stream",
     "text": [
      "             Case\n",
      "Date             \n",
      "2020-01-22      0\n",
      "2020-01-23      0\n",
      "2020-01-24      0\n",
      "2020-01-25      0\n",
      "2020-01-26      0\n",
      "...           ...\n",
      "2020-07-23  32594\n",
      "2020-07-24  32596\n",
      "2020-07-25  32608\n",
      "2020-07-26  32630\n",
      "2020-07-27  32645\n",
      "\n",
      "[188 rows x 1 columns]\n"
     ]
    }
   ],
   "source": [
    "%matplotlib inline\n",
    "\n",
    "import pandas as pd\n",
    "import numpy as np\n",
    "import matplotlib.pyplot as plt\n",
    "import math\n",
    "\n",
    "max_d_p1m = 100\n",
    "\n",
    "# data has one row per day for all counties\n",
    "data = pd.read_csv(\"us_deaths.csv\", parse_dates=True, dayfirst=False) \n",
    "# remove lines with 0 population\n",
    "data = data[data.Population>0]\n",
    "\n",
    "s_data = data[['Province/State','Date','Case']].groupby(['Province/State','Date']).sum()\n",
    "print(s_data.loc['New York'])"
   ]
  },
  {
   "cell_type": "code",
   "execution_count": null,
   "metadata": {},
   "outputs": [],
   "source": []
  }
 ],
 "metadata": {
  "kernelspec": {
   "display_name": "Python 3",
   "language": "python",
   "name": "python3"
  },
  "language_info": {
   "codemirror_mode": {
    "name": "ipython",
    "version": 3
   },
   "file_extension": ".py",
   "mimetype": "text/x-python",
   "name": "python",
   "nbconvert_exporter": "python",
   "pygments_lexer": "ipython3",
   "version": "3.8.2"
  }
 },
 "nbformat": 4,
 "nbformat_minor": 2
}
