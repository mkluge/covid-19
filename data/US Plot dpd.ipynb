{
 "cells": [
  {
   "cell_type": "code",
   "execution_count": 14,
   "metadata": {},
   "outputs": [
    {
     "ename": "SyntaxError",
     "evalue": "invalid syntax (<ipython-input-14-a7dc1d65d97b>, line 13)",
     "output_type": "error",
     "traceback": [
      "\u001b[0;36m  File \u001b[0;32m\"<ipython-input-14-a7dc1d65d97b>\"\u001b[0;36m, line \u001b[0;32m13\u001b[0m\n\u001b[0;31m    for state in us_states\u001b[0m\n\u001b[0m                          ^\u001b[0m\n\u001b[0;31mSyntaxError\u001b[0m\u001b[0;31m:\u001b[0m invalid syntax\n"
     ]
    }
   ],
   "source": [
    "%matplotlib inline\n",
    "\n",
    "import pandas as pd\n",
    "import matplotlib.pyplot as plt\n",
    "\n",
    "# data has one row per day for all counties\n",
    "data = pd.read_csv(\"us_deaths.csv\", parse_dates=True, dayfirst=False) \n",
    "\n",
    "us_states = data['Province/State'].unique()\n",
    "print(us_states)\n",
    "dpd=[]\n",
    "\n",
    "for state in us_states:\n",
    "\n",
    "\n",
    "print(agg_data)\n",
    "print(agg_data.columns.values)\n",
    "print(agg_data.keys())\n",
    "\n",
    "us_states = agg_data['Province/State']\n",
    "dates = agg_data['Date']\n",
    "\n",
    "for state in us_states:\n",
    "    dpd.append(agg_data[state])\n",
    "\n",
    "fig, ax = plt.subplots()\n",
    "im = ax.imshow(dpd)\n",
    "\n",
    "# We want to show all ticks...\n",
    "ax.set_xticks(np.arange(len(dates)))\n",
    "ax.set_yticks(np.arange(len(us_states)))\n",
    "# ... and label them with the respective list entries\n",
    "ax.set_xticklabels(dates)\n",
    "ax.set_yticklabels(us_states)\n",
    "\n",
    "# Rotate the tick labels and set their alignment.\n",
    "plt.setp(ax.get_xticklabels(), rotation=45, ha=\"right\",\n",
    "         rotation_mode=\"anchor\")\n",
    "\n",
    "# Loop over data dimensions and create text annotations.\n",
    "for i in range(len(us_states)):\n",
    "    for j in range(len(dates)):\n",
    "        text = ax.text(j, i, dpd[i, j],\n",
    "                       ha=\"center\", va=\"center\", color=\"w\")\n",
    "\n",
    "ax.set_title(\"dpd\")\n",
    "fig.tight_layout()\n",
    "plt.show()\n"
   ]
  },
  {
   "cell_type": "code",
   "execution_count": null,
   "metadata": {},
   "outputs": [],
   "source": []
  }
 ],
 "metadata": {
  "kernelspec": {
   "display_name": "Python 3",
   "language": "python",
   "name": "python3"
  },
  "language_info": {
   "codemirror_mode": {
    "name": "ipython",
    "version": 3
   },
   "file_extension": ".py",
   "mimetype": "text/x-python",
   "name": "python",
   "nbconvert_exporter": "python",
   "pygments_lexer": "ipython3",
   "version": "3.8.2"
  }
 },
 "nbformat": 4,
 "nbformat_minor": 2
}
