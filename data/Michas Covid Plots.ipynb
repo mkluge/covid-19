{
 "cells": [
  {
   "cell_type": "code",
   "execution_count": 24,
   "metadata": {},
   "outputs": [
    {
     "name": "stdout",
     "output_type": "stream",
     "text": [
      "150993.0\n"
     ]
    },
    {
     "data": {
      "image/png": "[encoded data removed]",
      "text/plain": [
       "<Figure size 432x288 with 1 Axes>"
      ]
     },
     "metadata": {
      "needs_background": "light"
     },
     "output_type": "display_data"
    }
   ],
   "source": [
    "%matplotlib inline\n",
    "\n",
    "import pandas as pd\n",
    "import matplotlib.pyplot as plt\n",
    "\n",
    "data = pd.read_csv(\"time-series-19-covid-combined.csv\", index_col='Date', parse_dates=True, dayfirst=False) \n",
    "# Preview the first 5 lines of the loaded data \n",
    "#data = data[data['Country/Region']=='Italy']\n",
    "#data = data[data['Country/Region']=='Germany']\n",
    "data = data[data['Country/Region']=='US']\n",
    "data['CM10']=data['Confirmed'].shift(10)\n",
    "data['cfr']=100*data['Deaths']/data['Confirmed']\n",
    "data['cfr10']=100*data['Deaths']/data['CM10']\n",
    "data['ineu']=data['Confirmed'].diff(1)\n",
    "data['ineu10']=data['CM10'].diff(1)\n",
    "data['mki']=0.06*data['ineu']\n",
    "data['dneu']=data['Deaths'].diff(1)\n",
    "\n",
    "# Infektionsrate ist: wieviele wurden heute gegenüber der letzten Zeit neu infiziert\n",
    "# berechne ich mal mit Mittelwert gestern und heute im Verhältnis zu Mittelwert der \n",
    "# letzten drei Tage (gestern vorgestern und vorvorgestern)\n",
    "data['avg_new_2d']=data['ineu'].rolling(2).mean()\n",
    "data['avg_new_l3d']=data['ineu'].shift(1).rolling(5).mean()\n",
    "data['infection_rate']=data['avg_new_2d']/data['avg_new_l3d']\n",
    "\n",
    "#data['cfr']=100*data['dneu']/data['ineu']\n",
    "#data['cfr10']=100*data['dneu']/data['ineu10']\n",
    "# data.head()\n",
    "#d = data[['cfr','cfr10']]\n",
    "#d = data['infection_rate']\n",
    "#d = data['ineu']\n",
    "d = data['Deaths'].diff(1).rolling(7).median()\n",
    "print(d.sum())\n",
    "plt.figure()\n",
    "p = d.plot()\n",
    "#p.set_yscale('log')\n",
    "#p.set_ylim(0,20)\n",
    "\n",
    "#d.plot(kind='bar')\n",
    "#print(data['ineu'].sum()*0.06)"
   ]
  },
  {
   "cell_type": "code",
   "execution_count": null,
   "metadata": {},
   "outputs": [],
   "source": []
  }
 ],
 "metadata": {
  "kernelspec": {
   "display_name": "Python 3",
   "language": "python",
   "name": "python3"
  },
  "language_info": {
   "codemirror_mode": {
    "name": "ipython",
    "version": 3
   },
   "file_extension": ".py",
   "mimetype": "text/x-python",
   "name": "python",
   "nbconvert_exporter": "python",
   "pygments_lexer": "ipython3",
   "version": "3.8.2"
  }
 },
 "nbformat": 4,
 "nbformat_minor": 2
}
